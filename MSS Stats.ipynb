{
 "metadata": {
  "name": "",
  "signature": "sha256:d8d809ecbc9796fe4594ff7acf10a11b3a4891090461c70927aaf633d247baa5"
 },
 "nbformat": 3,
 "nbformat_minor": 0,
 "worksheets": [
  {
   "cells": [
    {
     "cell_type": "code",
     "collapsed": false,
     "input": [
      "%matplotlib inline\n",
      "from scipy import misc\n",
      "import matplotlib.pyplot as plt\n",
      "import numpy as np\n"
     ],
     "language": "python",
     "metadata": {},
     "outputs": [],
     "prompt_number": 4
    },
    {
     "cell_type": "code",
     "collapsed": false,
     "input": [
      "test_img_path = './test_pages/original/VA013RN-0014.jpeg'\n",
      "# flatten=True converts to greyscale when reading img in. \n",
      "test_img = misc.imread(test_img_path, flatten=True)\n",
      "test_img = misc.imresize(test_img,10)"
     ],
     "language": "python",
     "metadata": {},
     "outputs": [],
     "prompt_number": 39
    },
    {
     "cell_type": "code",
     "collapsed": false,
     "input": [
      "hist = np.histogram(test_img, bins=255)"
     ],
     "language": "python",
     "metadata": {},
     "outputs": [],
     "prompt_number": 40
    },
    {
     "cell_type": "code",
     "collapsed": false,
     "input": [
      "def calc_centers_of_bins(x):\n",
      "    return  list(x[i]+(x[i]-x[i+1])/2.0 for i in xrange(len(x)-1))\n",
      "x = hist[1].tolist()\n",
      "y = hist[0].tolist()\n",
      "plt.bar(calc_centers_of_bins(x),y, width=(x[-1]-x[0])/(len(y)), color='red', alpha=0.5)\n",
      "plt.show()"
     ],
     "language": "python",
     "metadata": {},
     "outputs": [
      {
       "metadata": {},
       "output_type": "display_data",
       "png": "[encoded data removed]",
       "text": [
        "<matplotlib.figure.Figure at 0x7fe9e5228710>"
       ]
      }
     ],
     "prompt_number": 41
    },
    {
     "cell_type": "code",
     "collapsed": false,
     "input": [
      "img = test_img.astype(int)\n",
      "for a in range(0,255,17):\n",
      "    b = a + 17\n",
      "    misc.imsave('./layers/%d-%d.jpg'% (a,b),np.where((img >= a) & (img <= b), True, False))\n",
      "misc.imsave('./layers/below187.jpg', np.where(img <=187 , True, False))"
     ],
     "language": "python",
     "metadata": {},
     "outputs": [],
     "prompt_number": 42
    },
    {
     "cell_type": "code",
     "collapsed": false,
     "input": [
      "img[(img >= 10) & (img <= 20)]"
     ],
     "language": "python",
     "metadata": {},
     "outputs": [
      {
       "metadata": {},
       "output_type": "pyout",
       "prompt_number": 34,
       "text": [
        "array([19, 17, 18, 19, 19, 15, 19, 17, 19, 20, 20, 18, 20, 16, 17, 19, 13,\n",
        "       19, 18, 17, 19, 14, 16, 19, 18, 18, 18, 15, 16, 19, 18, 19, 18, 20,\n",
        "       16, 20, 16, 10, 20, 12, 19, 19, 14, 17, 17, 20, 12, 18, 15, 18, 18,\n",
        "       19, 20, 20, 19, 19, 14, 19, 20, 20, 18, 16, 19])"
       ]
      }
     ],
     "prompt_number": 34
    },
    {
     "cell_type": "code",
     "collapsed": false,
     "input": [],
     "language": "python",
     "metadata": {},
     "outputs": []
    }
   ],
   "metadata": {}
  }
 ]
}